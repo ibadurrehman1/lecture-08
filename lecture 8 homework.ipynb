{
 "cells": [
  {
   "cell_type": "code",
   "execution_count": 3,
   "metadata": {},
   "outputs": [
    {
     "name": "stdout",
     "output_type": "stream",
     "text": [
      "Input your F.sc numbers:75\n",
      "you got A grade\n"
     ]
    }
   ],
   "source": [
    "marks=int(input(\"Input your F.sc numbers:\"))\n",
    "if marks>39 and marks<50:\n",
    "    print(\"you got D Grade\")\n",
    "elif marks>49 and marks<60:\n",
    "    print(\"you got C grade\")\n",
    "elif marks>59 and marks<70:\n",
    "    print(\"you got B grade\")\n",
    "elif marks>69 and marks<80:\n",
    "    print(\"you got A grade\")\n",
    "elif marks>79 and marks<=100:\n",
    "    print(\"you got A+ grade\")\n",
    "else:\n",
    "    print(\"FAIL\")"
   ]
  },
  {
   "cell_type": "code",
   "execution_count": 16,
   "metadata": {},
   "outputs": [
    {
     "name": "stdout",
     "output_type": "stream",
     "text": [
      "Humza ,I would like you to come on my graduation ceremany\n",
      "maaz ,I would like you to come on my graduation ceremany\n",
      "oh my Lovely friend ibad ,I would like you to come on my graduation ceremany\n",
      "talha ,I would like you to come on my graduation ceremany\n",
      "oh my Lovely friend Ahsan ,I would like you to come on my graduation ceremany\n"
     ]
    }
   ],
   "source": [
    "names = ['Humza','maaz','ibad','talha','Ahsan']\n",
    "for name in names:\n",
    "    if name[0] in 'AEIOUaeiou':\n",
    "        print(\"oh my Lovely friend\",name,\",I would like you to come on my graduation ceremany\")\n",
    "    else:\n",
    "        print(name,\",I would like you to come on my graduation ceremany\")"
   ]
  }
 ],
 "metadata": {
  "kernelspec": {
   "display_name": "Python 3",
   "language": "python",
   "name": "python3"
  },
  "language_info": {
   "codemirror_mode": {
    "name": "ipython",
    "version": 3
   },
   "file_extension": ".py",
   "mimetype": "text/x-python",
   "name": "python",
   "nbconvert_exporter": "python",
   "pygments_lexer": "ipython3",
   "version": "3.7.4"
  }
 },
 "nbformat": 4,
 "nbformat_minor": 2
}
